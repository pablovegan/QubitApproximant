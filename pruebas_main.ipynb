{
 "cells": [
  {
   "cell_type": "code",
   "execution_count": 3,
   "metadata": {},
   "outputs": [],
   "source": [
    "from main_1D import *\n",
    "from scipy.special import zeta  \n"
   ]
  },
  {
   "cell_type": "code",
   "execution_count": 4,
   "metadata": {},
   "outputs": [],
   "source": [
    "k = np.linspace(-5,5,1000)\n",
    "zipf = (k**-4)/zeta(4)"
   ]
  },
  {
   "cell_type": "code",
   "execution_count": null,
   "metadata": {},
   "outputs": [],
   "source": [
    "graficas_errores(seed = 3,\n",
    "                min_layers = 2,\n",
    "                max_layers = 10,\n",
    "                x = k,\n",
    "                f = zipf)"
   ]
  }
 ],
 "metadata": {
  "kernelspec": {
   "display_name": "qml",
   "language": "python",
   "name": "python3"
  },
  "language_info": {
   "codemirror_mode": {
    "name": "ipython",
    "version": 3
   },
   "file_extension": ".py",
   "mimetype": "text/x-python",
   "name": "python",
   "nbconvert_exporter": "python",
   "pygments_lexer": "ipython3",
   "version": "3.10.6"
  },
  "orig_nbformat": 4,
  "vscode": {
   "interpreter": {
    "hash": "19f4013063c35f0cae3eedd9fb00d1f0b696a88f2ee8c269177cd3b1970fa2d7"
   }
  }
 },
 "nbformat": 4,
 "nbformat_minor": 2
}
