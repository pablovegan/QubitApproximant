{
 "cells": [
  {
   "cell_type": "code",
   "execution_count": 3,
   "metadata": {},
   "outputs": [
    {
     "data": {
      "text/plain": [
       "4"
      ]
     },
     "execution_count": 3,
     "metadata": {},
     "output_type": "execute_result"
    }
   ],
   "source": [
<<<<<<< HEAD
    "f = lambda x: x+1\n",
    "g = lambda x: f(x)**2\n",
=======
    "f = lambda x: x + 1\n",
    "g = lambda x: f(x) ** 2\n",
>>>>>>> 1c7525c63a0302989c280727ffb3e64d5640351d
    "g(1)"
   ]
  },
  {
   "cell_type": "code",
   "execution_count": 11,
   "metadata": {},
   "outputs": [],
   "source": [
    "class Trial:\n",
    "    '''Usamos mayúslas para denotar clases y minúsculas para atributos.'''\n",
    "    def __init__(self):\n",
    "        self.function = getattr(self, 'done')\n",
    "\n",
    "    def done(self):\n",
    "        print('Done')"
   ]
  },
  {
   "cell_type": "code",
   "execution_count": 12,
   "metadata": {},
   "outputs": [
    {
     "name": "stdout",
     "output_type": "stream",
     "text": [
      "Done\n"
     ]
    }
   ],
   "source": [
    "a = Trial()\n",
    "a.function()"
   ]
  },
  {
   "cell_type": "code",
   "execution_count": 14,
   "metadata": {},
   "outputs": [],
   "source": [
    "import numpy as np\n",
    "a = np.zeros((2,2))\n",
    "a[0,:] = [4,5]\n"
   ]
  },
  {
   "cell_type": "code",
   "execution_count": 15,
   "metadata": {},
   "outputs": [
    {
     "data": {
      "text/plain": [
       "array([[4., 5.],\n",
       "       [0., 0.]])"
      ]
     },
     "execution_count": 15,
     "metadata": {},
     "output_type": "execute_result"
    }
   ],
   "source": [
    "a"
   ]
  },
  {
   "cell_type": "code",
   "execution_count": null,
   "metadata": {},
   "outputs": [],
   "source": []
  }
 ],
 "metadata": {
  "kernelspec": {
<<<<<<< HEAD
   "display_name": "Python 3.10.4 ('QC_env')",
=======
   "display_name": "qml",
>>>>>>> 1c7525c63a0302989c280727ffb3e64d5640351d
   "language": "python",
   "name": "python3"
  },
  "language_info": {
   "codemirror_mode": {
    "name": "ipython",
    "version": 3
   },
   "file_extension": ".py",
   "mimetype": "text/x-python",
   "name": "python",
   "nbconvert_exporter": "python",
   "pygments_lexer": "ipython3",
<<<<<<< HEAD
   "version": "3.10.4"
=======
   "version": "3.10.6"
>>>>>>> 1c7525c63a0302989c280727ffb3e64d5640351d
  },
  "orig_nbformat": 4,
  "vscode": {
   "interpreter": {
<<<<<<< HEAD
    "hash": "a7013974fffeed3b051300295b1503215c2ff339c4a5745dabd6db85632ac1be"
=======
    "hash": "19f4013063c35f0cae3eedd9fb00d1f0b696a88f2ee8c269177cd3b1970fa2d7"
>>>>>>> 1c7525c63a0302989c280727ffb3e64d5640351d
   }
  }
 },
 "nbformat": 4,
 "nbformat_minor": 2
}
