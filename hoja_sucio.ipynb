{
   "cells": [
      {
         "cell_type": "code",
         "execution_count": 1,
         "metadata": {},
         "outputs": [],
         "source": [
            "from qubit_approximant import *"
         ]
      },
      {
         "cell_type": "code",
         "execution_count": 3,
         "metadata": {},
         "outputs": [
            {
               "ename": "AttributeError",
               "evalue": "type object 'int' has no attribute 'bar'",
               "output_type": "error",
               "traceback": [
                  "\u001b[0;31m---------------------------------------------------------------------------\u001b[0m",
                  "\u001b[0;31mAttributeError\u001b[0m                            Traceback (most recent call last)",
                  "\u001b[1;32m/Users/macvp/Documents/Python Proyectos/TFM_QML/hoja_sucio.ipynb Cell 2\u001b[0m in \u001b[0;36m<cell line: 1>\u001b[0;34m()\u001b[0m\n\u001b[0;32m----> <a href='vscode-notebook-cell:/Users/macvp/Documents/Python%20Proyectos/TFM_QML/hoja_sucio.ipynb#X11sZmlsZQ%3D%3D?line=0'>1</a>\u001b[0m bar \u001b[39m=\u001b[39m \u001b[39mgetattr\u001b[39;49m(\u001b[39mint\u001b[39;49m, \u001b[39m'\u001b[39;49m\u001b[39mbar\u001b[39;49m\u001b[39m'\u001b[39;49m)\n",
                  "\u001b[0;31mAttributeError\u001b[0m: type object 'int' has no attribute 'bar'"
               ]
            }
         ],
         "source": [
            "bar = getattr(int, 'bar')"
         ]
      },
      {
         "cell_type": "code",
         "execution_count": null,
         "metadata": {},
         "outputs": [],
         "source": [
            "benchmark_seeds()"
         ]
      },
      {
         "cell_type": "code",
         "execution_count": 11,
         "metadata": {},
         "outputs": [],
         "source": [
            "class Trial:\n",
            "    '''Usamos mayúslas para denotar clases y minúsculas para atributos.'''\n",
            "    def __init__(self):\n",
            "        self.function = getattr(self, 'done')\n",
            "\n",
            "    def done(self):\n",
            "        print('Done')"
         ]
      },
      {
         "cell_type": "code",
         "execution_count": 12,
         "metadata": {},
         "outputs": [
            {
               "name": "stdout",
               "output_type": "stream",
               "text": [
                  "Done\n"
               ]
            }
         ],
         "source": [
            "a = Trial()\n",
            "a.function()"
         ]
      },
      {
         "cell_type": "code",
         "execution_count": 14,
         "metadata": {},
         "outputs": [],
         "source": [
            "import numpy as np\n",
            "a = np.zeros((2,2))\n",
            "a[0,:] = [4,5]\n"
         ]
      },
      {
         "cell_type": "code",
         "execution_count": 15,
         "metadata": {},
         "outputs": [
            {
               "data": {
                  "text/plain": [
                     "array([[4., 5.],\n",
                     "       [0., 0.]])"
                  ]
               },
               "execution_count": 15,
               "metadata": {},
               "output_type": "execute_result"
            }
         ],
         "source": [
            "a"
         ]
      },
      {
         "cell_type": "code",
         "execution_count": null,
         "metadata": {},
         "outputs": [],
         "source": []
      }
   ],
   "metadata": {
      "kernelspec": {
         "display_name": "QC_env",
         "language": "python",
         "name": "python3"
      },
      "language_info": {
         "codemirror_mode": {
            "name": "ipython",
            "version": 3
         },
         "file_extension": ".py",
         "mimetype": "text/x-python",
         "name": "python",
         "nbconvert_exporter": "python",
         "pygments_lexer": "ipython3",
         "version": "3.10.4"
      },
      "orig_nbformat": 4,
      "vscode": {
         "interpreter": {
            "hash": "a7013974fffeed3b051300295b1503215c2ff339c4a5745dabd6db85632ac1be"
         }
      }
   },
   "nbformat": 4,
   "nbformat_minor": 2
}
