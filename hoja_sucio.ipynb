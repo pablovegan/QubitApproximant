{
   "cells": [
      {
         "cell_type": "code",
         "execution_count": 1,
         "metadata": {},
         "outputs": [
            {
               "data": {
                  "text/plain": [
                     "array([[1., 0.],\n",
                     "       [1., 0.],\n",
                     "       [1., 0.],\n",
                     "       [1., 0.],\n",
                     "       [1., 0.],\n",
                     "       [1., 0.],\n",
                     "       [1., 0.],\n",
                     "       [1., 0.],\n",
                     "       [1., 0.],\n",
                     "       [1., 0.],\n",
                     "       [1., 0.],\n",
                     "       [1., 0.]])"
                  ]
               },
               "execution_count": 1,
               "metadata": {},
               "output_type": "execute_result"
            }
         ],
         "source": [
            "import numpy as np\n",
            "\n",
            "np.tensordot(np.ones(12), np.array([1,0]), axes=0)"
         ]
      },
      {
         "cell_type": "code",
         "execution_count": 3,
         "metadata": {},
         "outputs": [
            {
               "data": {
                  "text/plain": [
                     "4"
                  ]
               },
               "execution_count": 3,
               "metadata": {},
               "output_type": "execute_result"
            }
         ],
         "source": [
            "f = lambda x: x+1\n",
            "g = lambda x: f(x)**2\n",
            "g(1)"
         ]
      },
      {
         "cell_type": "code",
         "execution_count": 11,
         "metadata": {},
         "outputs": [],
         "source": [
            "class Trial:\n",
            "    '''Usamos mayúslas para denotar clases y minúsculas para atributos.'''\n",
            "    def __init__(self):\n",
            "        self.function = getattr(self, 'done')\n",
            "\n",
            "    def done(self):\n",
            "        print('Done')"
         ]
      },
      {
         "cell_type": "code",
         "execution_count": 12,
         "metadata": {},
         "outputs": [
            {
               "name": "stdout",
               "output_type": "stream",
               "text": [
                  "Done\n"
               ]
            }
         ],
         "source": [
            "a = Trial()\n",
            "a.function()"
         ]
      },
      {
         "cell_type": "code",
         "execution_count": 14,
         "metadata": {},
         "outputs": [],
         "source": [
            "import numpy as np\n",
            "a = np.zeros((2,2))\n",
            "a[0,:] = [4,5]\n"
         ]
      },
      {
         "cell_type": "code",
         "execution_count": 15,
         "metadata": {},
         "outputs": [
            {
               "data": {
                  "text/plain": [
                     "array([[4., 5.],\n",
                     "       [0., 0.]])"
                  ]
               },
               "execution_count": 15,
               "metadata": {},
               "output_type": "execute_result"
            }
         ],
         "source": [
            "a"
         ]
      },
      {
         "cell_type": "code",
         "execution_count": null,
         "metadata": {},
         "outputs": [],
         "source": []
      }
   ],
   "metadata": {
      "kernelspec": {
         "display_name": "Python 3.10.4 ('QC_env')",
         "language": "python",
         "name": "python3"
      },
      "language_info": {
         "codemirror_mode": {
            "name": "ipython",
            "version": 3
         },
         "file_extension": ".py",
         "mimetype": "text/x-python",
         "name": "python",
         "nbconvert_exporter": "python",
         "pygments_lexer": "ipython3",
         "version": "3.10.4"
      },
      "orig_nbformat": 4,
      "vscode": {
         "interpreter": {
            "hash": "a7013974fffeed3b051300295b1503215c2ff339c4a5745dabd6db85632ac1be"
         }
      }
   },
   "nbformat": 4,
   "nbformat_minor": 2
}
