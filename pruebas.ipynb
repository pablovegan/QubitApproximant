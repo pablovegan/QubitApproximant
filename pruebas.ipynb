{
 "cells": [
  {
   "cell_type": "code",
   "execution_count": 2,
   "metadata": {},
   "outputs": [],
   "source": [
    "import numpy as np\n",
    "from numpy import cos, sin\n",
    "from numpy.testing import assert_allclose"
   ]
  },
  {
   "cell_type": "code",
   "execution_count": 8,
   "metadata": {},
   "outputs": [],
   "source": [
    "def layer(x: np.ndarray, θ: np.ndarray, w: float) -> tuple:\n",
    "    \"\"\"\n",
    "    Each layer is the product of three rotations.\n",
    "    \n",
    "    Parmeters\n",
    "    ---------\n",
    "    θi : (3) array\n",
    "        Bias parameters of each rotation.\n",
    "    wi : float\n",
    "        Weight of the X rotation.\n",
    "    \n",
    "    Returns\n",
    "    -------\n",
    "    A : (G,2,2) array\n",
    "        Unitary matrix of the layer. \n",
    "    \"\"\"\n",
    "    ϕ = w * x + θ[0]\n",
    "    Rx = np.array([[cos(ϕ/2), -1j * sin(ϕ/2)], [-1j * sin(ϕ/2), cos(ϕ/2)]])\n",
    "    Ry = np.array([[cos(θ[1]/2), -sin(θ[1]/2)], [sin(θ[1]/2), cos(θ[1]/2)]])\n",
    "    Rz = np.array([[cos(θ[2]/2) - 1j * sin(θ[2]/2), 0], [0, cos(θ[2]/2) + 1j * sin(θ[2]/2)]])\n",
    "\n",
    "    Ui = np.einsum('mn, np, pqi -> mqi', Rz, Ry, Rx)\n",
    "    return np.moveaxis(Ui, -1, 0)"
   ]
  },
  {
   "cell_type": "code",
   "execution_count": 9,
   "metadata": {},
   "outputs": [],
   "source": [
    "def layer_v2(x: np.ndarray, θ: np.ndarray, w: float) -> tuple:\n",
    "    \"\"\"\n",
    "    Each layer is the product of three rotations.\n",
    "    \n",
    "    Parmeters\n",
    "    ---------\n",
    "    θi : (3) array\n",
    "        Bias parameters of each rotation.\n",
    "    wi : float\n",
    "        Weight of the X rotation.\n",
    "    \n",
    "    Returns\n",
    "    -------\n",
    "    A : (G,2,2) array\n",
    "        Unitary matrix of the layer. \n",
    "    \"\"\"\n",
    "    ϕ = w * x + θ[0]\n",
    "    Rx = np.array([[cos(ϕ/2), -1j * sin(ϕ/2)], [-1j * sin(ϕ/2), cos(ϕ/2)]])\n",
    "    Ry = np.array([[cos(θ[1]/2), -sin(θ[1]/2)], [sin(θ[1]/2), cos(θ[1]/2)]])\n",
    "    Rz = np.array([[cos(θ[2]/2) - 1j * sin(θ[2]/2), 0], [0, cos(θ[2]/2) + 1j * sin(θ[2]/2)]])\n",
    "\n",
    "    return np.einsum('mn,np,pqi->imq', Rz, Ry, Rx)"
   ]
  },
  {
   "cell_type": "code",
   "execution_count": 11,
   "metadata": {},
   "outputs": [
    {
     "ename": "AssertionError",
     "evalue": "\nNot equal to tolerance rtol=1e-07, atol=0\n\nMismatched elements: 2000 / 2000 (100%)\nMax absolute difference: 1.\nMax relative difference: 2.60770824\n x: array([[[ 0.566409-0.196898j, -0.371053-0.709036j],\n        [ 0.371053-0.709036j,  0.566409+0.196898j]],\n...\n y: array([[[-0.433591-0.196898j, -1.371053-0.709036j],\n        [-0.628947-0.709036j, -0.433591+0.196898j]],\n...",
     "output_type": "error",
     "traceback": [
      "\u001b[1;31m---------------------------------------------------------------------------\u001b[0m",
      "\u001b[1;31mAssertionError\u001b[0m                            Traceback (most recent call last)",
      "Cell \u001b[1;32mIn[11], line 5\u001b[0m\n\u001b[0;32m      2\u001b[0m θ \u001b[39m=\u001b[39m np\u001b[39m.\u001b[39marray([\u001b[39m2\u001b[39m,\u001b[39m3\u001b[39m,\u001b[39m4\u001b[39m])\n\u001b[0;32m      3\u001b[0m w \u001b[39m=\u001b[39m \u001b[39m3\u001b[39m\n\u001b[1;32m----> 5\u001b[0m assert_allclose(layer(x, θ, w), layer_v2(x, θ, w)\u001b[39m-\u001b[39;49m\u001b[39m1\u001b[39;49m)\n",
      "    \u001b[1;31m[... skipping hidden 1 frame]\u001b[0m\n",
      "File \u001b[1;32mc:\\Users\\pablovegan98\\miniconda3\\envs\\qml\\lib\\site-packages\\numpy\\testing\\_private\\utils.py:844\u001b[0m, in \u001b[0;36massert_array_compare\u001b[1;34m(comparison, x, y, err_msg, verbose, header, precision, equal_nan, equal_inf)\u001b[0m\n\u001b[0;32m    840\u001b[0m         err_msg \u001b[39m+\u001b[39m\u001b[39m=\u001b[39m \u001b[39m'\u001b[39m\u001b[39m\\n\u001b[39;00m\u001b[39m'\u001b[39m \u001b[39m+\u001b[39m \u001b[39m'\u001b[39m\u001b[39m\\n\u001b[39;00m\u001b[39m'\u001b[39m\u001b[39m.\u001b[39mjoin(remarks)\n\u001b[0;32m    841\u001b[0m         msg \u001b[39m=\u001b[39m build_err_msg([ox, oy], err_msg,\n\u001b[0;32m    842\u001b[0m                             verbose\u001b[39m=\u001b[39mverbose, header\u001b[39m=\u001b[39mheader,\n\u001b[0;32m    843\u001b[0m                             names\u001b[39m=\u001b[39m(\u001b[39m'\u001b[39m\u001b[39mx\u001b[39m\u001b[39m'\u001b[39m, \u001b[39m'\u001b[39m\u001b[39my\u001b[39m\u001b[39m'\u001b[39m), precision\u001b[39m=\u001b[39mprecision)\n\u001b[1;32m--> 844\u001b[0m         \u001b[39mraise\u001b[39;00m \u001b[39mAssertionError\u001b[39;00m(msg)\n\u001b[0;32m    845\u001b[0m \u001b[39mexcept\u001b[39;00m \u001b[39mValueError\u001b[39;00m:\n\u001b[0;32m    846\u001b[0m     \u001b[39mimport\u001b[39;00m \u001b[39mtraceback\u001b[39;00m\n",
      "\u001b[1;31mAssertionError\u001b[0m: \nNot equal to tolerance rtol=1e-07, atol=0\n\nMismatched elements: 2000 / 2000 (100%)\nMax absolute difference: 1.\nMax relative difference: 2.60770824\n x: array([[[ 0.566409-0.196898j, -0.371053-0.709036j],\n        [ 0.371053-0.709036j,  0.566409+0.196898j]],\n...\n y: array([[[-0.433591-0.196898j, -1.371053-0.709036j],\n        [-0.628947-0.709036j, -0.433591+0.196898j]],\n..."
     ]
    }
   ],
   "source": [
    "x = np.linspace(1,100,500)\n",
    "θ = np.array([2,3,4])\n",
    "w = 3\n",
    "\n",
    "assert_allclose(layer(x, θ, w), layer_v2(x, θ, w))"
   ]
  },
  {
   "cell_type": "code",
   "execution_count": 6,
   "metadata": {},
   "outputs": [
    {
     "data": {
      "text/plain": [
       "array([[[ 0,  1,  2,  3],\n",
       "        [ 4,  5,  6,  7],\n",
       "        [ 8,  9, 10, 11]],\n",
       "\n",
       "       [[12, 13, 14, 15],\n",
       "        [16, 17, 18, 19],\n",
       "        [20, 21, 22, 23]]])"
      ]
     },
     "execution_count": 6,
     "metadata": {},
     "output_type": "execute_result"
    }
   ],
   "source": [
    "a = np.arange(2*3*4)\n",
    "a.reshape(2,3,4)"
   ]
  },
  {
   "cell_type": "code",
   "execution_count": 8,
   "metadata": {},
   "outputs": [
    {
     "data": {
      "text/plain": [
       "array([[ 0,  1,  2,  3],\n",
       "       [ 4,  5,  6,  7],\n",
       "       [ 8,  9, 10, 11],\n",
       "       [12, 13, 14, 15],\n",
       "       [16, 17, 18, 19],\n",
       "       [20, 21, 22, 23]])"
      ]
     },
     "execution_count": 8,
     "metadata": {},
     "output_type": "execute_result"
    }
   ],
   "source": [
    "a.reshape(2*3,4)"
   ]
  },
  {
   "cell_type": "code",
   "execution_count": null,
   "metadata": {},
   "outputs": [],
   "source": []
  }
 ],
 "metadata": {
  "kernelspec": {
   "display_name": "qml",
   "language": "python",
   "name": "python3"
  },
  "language_info": {
   "codemirror_mode": {
    "name": "ipython",
    "version": 3
   },
   "file_extension": ".py",
   "mimetype": "text/x-python",
   "name": "python",
   "nbconvert_exporter": "python",
   "pygments_lexer": "ipython3",
   "version": "3.10.6 | packaged by conda-forge | (main, Oct 24 2022, 16:02:16) [MSC v.1916 64 bit (AMD64)]"
  },
  "orig_nbformat": 4,
  "vscode": {
   "interpreter": {
    "hash": "19f4013063c35f0cae3eedd9fb00d1f0b696a88f2ee8c269177cd3b1970fa2d7"
   }
  }
 },
 "nbformat": 4,
 "nbformat_minor": 2
}
